{
 "cells": [
  {
   "cell_type": "code",
   "execution_count": 141,
   "id": "b66ec5ca",
   "metadata": {},
   "outputs": [],
   "source": [
    "import numpy as np\n",
    "import pandas as pd\n",
    "from sklearn.model_selection import train_test_split\n",
    "from sklearn.linear_model import LogisticRegression\n",
    "from sklearn.metrics import accuracy_score, confusion_matrix\n",
    "from sklearn.preprocessing import StandardScaler"
   ]
  },
  {
   "cell_type": "code",
   "execution_count": 142,
   "id": "8fac4002",
   "metadata": {},
   "outputs": [],
   "source": [
    "def model_building(file_name):\n",
    "    dataset = pd.read_csv(file_name)\n",
    "    dataset.drop('Id',axis=1,inplace=True)\n",
    "    dataset.drop_duplicates(inplace=True)\n",
    "    X = dataset.iloc[:,:4]\n",
    "    Y = dataset.iloc[:,-1]\n",
    "    scaler = StandardScaler()\n",
    "    X_scaled = scaler.fit_transform(X)\n",
    "    X_train, X_test, y_train, y_test = train_test_split(X_scaled,Y,test_size=0.2,random_state=42)\n",
    "    model = LogisticRegression()\n",
    "    model.fit(X_train,y_train)\n",
    "    y_pred = model.predict(X_test)\n",
    "    confusion_mat = confusion_matrix(y_test,y_pred)\n",
    "    accuracy = accuracy_score(y_test,y_pred)*100\n",
    "    return confusion_mat, accuracy, scaler, model"
   ]
  },
  {
   "cell_type": "code",
   "execution_count": 149,
   "id": "455f8b50",
   "metadata": {},
   "outputs": [],
   "source": [
    "def user_prediction(scaler, model):\n",
    "    sepal_length = float(input(\"Enter the sepal length: \"))\n",
    "    sepal_width = float(input(\"Enter the sepal width: \"))\n",
    "    petal_length = float(input(\"Enter the petal length: \"))\n",
    "    petal_width = float(input(\"Enter the petal width: \"))\n",
    "    input_data = pd.DataFrame([[sepal_length, sepal_width, petal_length, petal_width]])\n",
    "    input_data_scaled = scaler.transform(input_data)\n",
    "    prediction = model.predict(input_data_scaled)\n",
    "    print('Prediction:', prediction)"
   ]
  },
  {
   "cell_type": "code",
   "execution_count": 150,
   "id": "88b6bd15",
   "metadata": {},
   "outputs": [
    {
     "name": "stdout",
     "output_type": "stream",
     "text": [
      "Accuracy: 96.66666666666667\n",
      "Confusion Matrix:\n",
      "[[11  0  0]\n",
      " [ 0  9  1]\n",
      " [ 0  0  9]]\n"
     ]
    }
   ],
   "source": [
    "conf_mat, accuracy, scaler, model = model_building('iris.csv')\n",
    "print('Accuracy:', accuracy)\n",
    "print('Confusion Matrix:')\n",
    "print(confusion_mat)"
   ]
  },
  {
   "cell_type": "code",
   "execution_count": 151,
   "id": "4aaba76e",
   "metadata": {},
   "outputs": [
    {
     "name": "stdout",
     "output_type": "stream",
     "text": [
      "Enter the sepal length: 5.1\n",
      "Enter the sepal width: 3.5\n",
      "Enter the petal length: 1.4\n",
      "Enter the petal width: 0.2\n",
      "Prediction: ['Iris-setosa']\n"
     ]
    },
    {
     "name": "stderr",
     "output_type": "stream",
     "text": [
      "C:\\Users\\Public\\Anaconda\\lib\\site-packages\\sklearn\\base.py:450: UserWarning: X does not have valid feature names, but StandardScaler was fitted with feature names\n",
      "  warnings.warn(\n"
     ]
    }
   ],
   "source": [
    "user_prediction(scaler, model)"
   ]
  },
  {
   "cell_type": "code",
   "execution_count": null,
   "id": "9f6df80e",
   "metadata": {},
   "outputs": [],
   "source": []
  }
 ],
 "metadata": {
  "kernelspec": {
   "display_name": "Python 3 (ipykernel)",
   "language": "python",
   "name": "python3"
  },
  "language_info": {
   "codemirror_mode": {
    "name": "ipython",
    "version": 3
   },
   "file_extension": ".py",
   "mimetype": "text/x-python",
   "name": "python",
   "nbconvert_exporter": "python",
   "pygments_lexer": "ipython3",
   "version": "3.9.12"
  }
 },
 "nbformat": 4,
 "nbformat_minor": 5
}
